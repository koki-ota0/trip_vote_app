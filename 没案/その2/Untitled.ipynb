{
 "cells": [
  {
   "cell_type": "code",
   "execution_count": 1,
   "id": "3273c7bb-a414-4a00-985b-4a5115d85872",
   "metadata": {},
   "outputs": [],
   "source": [
    "import requests\n",
    "import csv\n",
    "\n",
    "# APIキーを設定\n",
    "api_key = 'YOUR_API_KEY'\n",
    "\n",
    "# 検索クエリを設定\n",
    "query = '観光名所 東京'\n",
    "\n",
    "# APIを呼び出して情報を取得\n",
    "url = f'https://maps.googleapis.com/maps/api/place/textsearch/json?query={query}&key={api_key}'\n",
    "response = requests.get(url).json()\n",
    "\n",
    "# データをCSVファイルに書き込む\n",
    "with open('places.csv', mode='w', encoding='utf-8', newline='') as file:\n",
    "    writer = csv.writer(file)\n",
    "    writer.writerow(['name', 'address', 'rating'])\n",
    "    for result in response['results']:\n",
    "        name = result['name']\n",
    "        address = result['formatted_address']\n",
    "        rating = result.get('rating', '')\n",
    "        writer.writerow([name, address, rating])\n"
   ]
  }
 ],
 "metadata": {
  "kernelspec": {
   "display_name": "Python 3 (ipykernel)",
   "language": "python",
   "name": "python3"
  },
  "language_info": {
   "codemirror_mode": {
    "name": "ipython",
    "version": 3
   },
   "file_extension": ".py",
   "mimetype": "text/x-python",
   "name": "python",
   "nbconvert_exporter": "python",
   "pygments_lexer": "ipython3",
   "version": "3.8.13"
  }
 },
 "nbformat": 4,
 "nbformat_minor": 5
}
